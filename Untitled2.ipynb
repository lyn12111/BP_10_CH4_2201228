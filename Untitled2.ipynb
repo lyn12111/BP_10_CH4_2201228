{
  "nbformat": 4,
  "nbformat_minor": 0,
  "metadata": {
    "colab": {
      "provenance": [],
      "authorship_tag": "ABX9TyOcU/LXEILwcliqnDFqLZFb",
      "include_colab_link": true
    },
    "kernelspec": {
      "name": "python3",
      "display_name": "Python 3"
    },
    "language_info": {
      "name": "python"
    }
  },
  "cells": [
    {
      "cell_type": "markdown",
      "metadata": {
        "id": "view-in-github",
        "colab_type": "text"
      },
      "source": [
        "<a href=\"https://colab.research.google.com/github/lyn12111/BP_10_CH4_2201228/blob/main/Untitled2.ipynb\" target=\"_parent\"><img src=\"https://colab.research.google.com/assets/colab-badge.svg\" alt=\"Open In Colab\"/></a>"
      ]
    },
    {
      "cell_type": "code",
      "execution_count": null,
      "metadata": {
        "colab": {
          "base_uri": "https://localhost:8080/"
        },
        "id": "bkeHHGj2Pwn5",
        "outputId": "aa0e2faf-d3ea-41ba-e322-4e39a1741197"
      },
      "outputs": [
        {
          "output_type": "stream",
          "name": "stdout",
          "text": [
            "나는12개의 사과를 먹었다.\n"
          ]
        }
      ],
      "source": [
        "print('나는'+str(12)+'개의 사과를 먹었다.') #1번 문제"
      ]
    },
    {
      "cell_type": "code",
      "source": [
        "print('apple'+'grape') #2번 문제\n",
        "print('apple'*3)"
      ],
      "metadata": {
        "colab": {
          "base_uri": "https://localhost:8080/"
        },
        "id": "jplQWca0QQT9",
        "outputId": "c3cab1d5-9dab-4c2c-c941-3a5bb286a938"
      },
      "execution_count": null,
      "outputs": [
        {
          "output_type": "stream",
          "name": "stdout",
          "text": [
            "applegrape\n",
            "appleappleapple\n"
          ]
        }
      ]
    },
    {
      "cell_type": "code",
      "source": [
        "\n",
        "s=input(\"문자열을 입력하시오\") #3번 문제\n",
        "print(s[0:2]+s[-2:])"
      ],
      "metadata": {
        "colab": {
          "base_uri": "https://localhost:8080/"
        },
        "id": "Ya72AHzwQmeT",
        "outputId": "54705811-5e42-484e-8f82-33ac3552e800"
      },
      "execution_count": null,
      "outputs": [
        {
          "output_type": "stream",
          "name": "stdout",
          "text": [
            "문자열을 입력하시오python\n",
            "pyon\n"
          ]
        }
      ]
    },
    {
      "cell_type": "code",
      "source": [
        "s=input(\"문자열을 입력하시오:\") #4번 문제\n",
        "print(s+\"하는 중\")"
      ],
      "metadata": {
        "colab": {
          "base_uri": "https://localhost:8080/"
        },
        "id": "6fBxtKkjSg5b",
        "outputId": "5376dca9-7310-4226-d515-3017a69ae38a"
      },
      "execution_count": null,
      "outputs": [
        {
          "output_type": "stream",
          "name": "stdout",
          "text": [
            "문자열을 입력하시오:청소\n",
            "청소하는 중\n"
          ]
        }
      ]
    },
    {
      "cell_type": "code",
      "source": [
        "s=input(\"기호를 입력하시오:\") #5번 문제\n",
        "t=input(\"중간에 삽입할 문자열을 입력하시오:\")\n",
        "print(s[0]+t+s[1])"
      ],
      "metadata": {
        "id": "brdYa7UHTGmc",
        "colab": {
          "base_uri": "https://localhost:8080/"
        },
        "outputId": "4fe1b000-88a5-42c1-c8d7-f27f65506b9a"
      },
      "execution_count": null,
      "outputs": [
        {
          "output_type": "stream",
          "name": "stdout",
          "text": [
            "기호를 입력하시오:[]\n",
            "중간에 삽입할 문자열을 입력하시오:python\n",
            "[python]\n"
          ]
        }
      ]
    },
    {
      "cell_type": "code",
      "source": [
        "a=input(\"a=\") #6번문제\n",
        "b=input(\"b=\")\n",
        "c=input(\"c=\")\n",
        "d=input(\"d=\")\n",
        "list=[a,b,c,d]\n",
        "print(\"리스트=\",list)\n",
        "print(\"리스트 숫자들의 합\",list[0]+list[1]+list[2]+list[3])"
      ],
      "metadata": {
        "colab": {
          "base_uri": "https://localhost:8080/"
        },
        "id": "PpCywNAmL25B",
        "outputId": "32b8d0be-1db3-4c96-dcdf-b6a5f78f4f2a"
      },
      "execution_count": 5,
      "outputs": [
        {
          "output_type": "stream",
          "name": "stdout",
          "text": [
            "a=1\n",
            "b=2\n",
            "c=3\n",
            "d=4\n",
            "리스트= ['1', '2', '3', '4']\n",
            "리스트 숫자들의 합 1234\n"
          ]
        }
      ]
    }
  ]
}